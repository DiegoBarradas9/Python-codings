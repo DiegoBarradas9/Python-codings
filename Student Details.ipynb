{
 "cells": [
  {
   "cell_type": "code",
   "execution_count": 2,
   "id": "d126afa1",
   "metadata": {},
   "outputs": [
    {
     "name": "stdout",
     "output_type": "stream",
     "text": [
      "diego\n"
     ]
    }
   ],
   "source": [
    "name = \"diego\"\n",
    "\n",
    "print (name)"
   ]
  },
  {
   "cell_type": "code",
   "execution_count": 90,
   "id": "d57f0c28",
   "metadata": {},
   "outputs": [
    {
     "name": "stdout",
     "output_type": "stream",
     "text": [
      "student detail: \n",
      "SRcode:  21-02804\n",
      "Name:  Diego A. Barradas\n",
      "Age: 19\n",
      "Program:  BSIT\n"
     ]
    }
   ],
   "source": [
    "class Person:\n",
    "    def __init__(self,name,age):\n",
    "        self.name=name\n",
    "        self.age=age\n",
    "    def display(self):\n",
    "        print('Name: ',self.name)\n",
    "        print('Age:', self.age)\n",
    "class Student(Person):\n",
    "    def __init__(self,srcode,name,age,program):\n",
    "        super().__init__(name,age)\n",
    "        self.srcode=srcode\n",
    "        self.program=program\n",
    "    def display(self):\n",
    "        print(\"SRcode: \",self.srcode)\n",
    "        Person.display(self)\n",
    "        print(\"Program: \",self.program)\n",
    "\n",
    "S1= Student(\"21-02804\",\"Diego A. Barradas\",19,'BSIT')\n",
    "print(\"student detail: \")\n",
    "S1.display()"
   ]
  },
  {
   "cell_type": "code",
   "execution_count": null,
   "id": "3ab9bd86",
   "metadata": {},
   "outputs": [],
   "source": []
  }
 ],
 "metadata": {
  "kernelspec": {
   "display_name": "Python 3 (ipykernel)",
   "language": "python",
   "name": "python3"
  },
  "language_info": {
   "codemirror_mode": {
    "name": "ipython",
    "version": 3
   },
   "file_extension": ".py",
   "mimetype": "text/x-python",
   "name": "python",
   "nbconvert_exporter": "python",
   "pygments_lexer": "ipython3",
   "version": "3.9.12"
  }
 },
 "nbformat": 4,
 "nbformat_minor": 5
}
